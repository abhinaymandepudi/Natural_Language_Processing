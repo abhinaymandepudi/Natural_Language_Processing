{
 "cells": [
  {
   "cell_type": "code",
   "execution_count": 4,
   "metadata": {},
   "outputs": [
    {
     "name": "stdout",
     "output_type": "stream",
     "text": [
      "HHH [{'H': 1, 'C': 1}, {'H': 0.32000000000000006, 'C': 0.020000000000000004}, {'H': 0.044800000000000006, 'C': 0.04800000000000001}, {'H': 0.012544000000000003, 'C': 0.0028800000000000006}, {'E': 0.012544000000000003}]\n",
      "Observed Sequence: 313 , Hidden Sequence: HHH , probability: 0.012544000000000003\n"
     ]
    }
   ],
   "source": [
    "def Viterbi_Algorithm(ObservedSequences):\n",
    "    #HMM Declaration\n",
    "    b = {(1,\"H\") : 0.2,\n",
    "          (2,\"H\") : 0.4,\n",
    "          (3,\"H\") : 0.4,\n",
    "          (1,\"C\") : 0.5,\n",
    "          (2,\"C\") : 0.4,\n",
    "          (3,\"C\") : 0.1}\n",
    "\n",
    "    a = {(\"S\",\"H\"):0.8,(\"S\",\"C\"):0.2,\n",
    "                  (\"H\",\"H\"): 0.7,(\"H\",\"C\"): 0.3,\n",
    "                  (\"C\",\"H\"): 0.4,(\"C\",\"C\"): 0.6}\n",
    "\n",
    "    States = {\"H\",\"C\"}\n",
    "    #Viterbi #Decoding\n",
    "    #initialisation\n",
    "\n",
    "\n",
    "    v = []\n",
    "    backPointer = [{},{}]\n",
    "    for i in range(0,len(ObservedSequences)+1):\n",
    "        v += [[]]\n",
    "        v[i] = {}\n",
    "        for j in States:\n",
    "            v[i][j] = 1\n",
    "\n",
    "    for j in States:\n",
    "        backPointer[1][j] = \"S\"\n",
    "        o1 = (int(ObservedSequences[0]))\n",
    "        v[1][j] = a[(\"S\",j)]* b[(o1,j)]\n",
    "    #print (\"v = \",v,\"bP-\",backPointer)\n",
    "    for i in range(2,len(ObservedSequences)+1):\n",
    "        t = int(ObservedSequences[i-1])\n",
    "        #print (i-1,t)\n",
    "        backPointer += [{}]\n",
    "        for s in States:\n",
    "            v[i][s] = 0\n",
    "            temp = 0\n",
    "            st = \"\"\n",
    "\n",
    "            for s1 in States:\n",
    "                v[i][s] = max(v[i][s],v[i-1][s1]*a[(s1,s)]*b[(t,s)])\n",
    "                if temp <= v[i-1][s1]*a[(s1,s)]:\n",
    "                    temp = v[i-1][s1]*a[(s1,s)]\n",
    "                    st = s1\n",
    "            backPointer[i][s] = st    \n",
    "    backPointer += [{}] #final state\n",
    "    v += [[]]\n",
    "    v[len(ObservedSequences)+1] = {}\n",
    "    v[len(ObservedSequences)+1][\"E\"] = 0\n",
    "    temp = 0\n",
    "    #print (backPointer,\"\\n\\n\")\n",
    "    backPointer[len(ObservedSequences)+1][\"E\"] = \"\"\n",
    "    #print (backPointer,\"\\n\\n\")\n",
    "    for s in States:\n",
    "        v[len(ObservedSequences)+1][\"E\"] = max(v[len(ObservedSequences)+1][\"E\"],v[len(ObservedSequences)][s])\n",
    "        if temp <= v[len(ObservedSequences)][s]:\n",
    "            backPointer[len(ObservedSequences)+1][\"E\"] = s\n",
    "            temp = v[len(ObservedSequences)][s]\n",
    "\n",
    "    HiddenSequences = []\n",
    "    for i in range(0,len(ObservedSequences)):\n",
    "        HiddenSequences += [\"\"]\n",
    "    st = backPointer[len(backPointer)-1][\"E\"] \n",
    "    HiddenSequences[-1] = st\n",
    "    for index in range(len(backPointer)-2,1,-1):\n",
    "        HiddenSequences[index-2] = backPointer[index][st]\n",
    "        st = backPointer[index][st]\n",
    "    print (\"\".join(HiddenSequences),v)\n",
    "    return \"\".join(HiddenSequences),v[len(ObservedSequences)+1][\"E\"] \n",
    "\n",
    "\n",
    "\n",
    "\n",
    "#Question3 \n",
    "ObservedSequenceList = [\"313\"]\n",
    "for s in ObservedSequenceList:\n",
    "    HS , p = Viterbi_Algorithm(s)\n",
    "    print (\"Observed Sequence:\",s,\", Hidden Sequence:\",HS,\", probability:\",p)"
   ]
  },
  {
   "cell_type": "code",
   "execution_count": 204,
   "metadata": {},
   "outputs": [
    {
     "data": {
      "text/plain": [
       "[('abab', 'ab')]"
      ]
     },
     "execution_count": 204,
     "metadata": {},
     "output_type": "execute_result"
    }
   ],
   "source": [
    "#Question 1\n",
    "import re\n",
    "s = \"abab\"\n",
    "re.findall(r'((ab)+a?)+\\s',s)"
   ]
  },
  {
   "cell_type": "code",
   "execution_count": 206,
   "metadata": {},
   "outputs": [
    {
     "name": "stdout",
     "output_type": "stream",
     "text": [
      "Collecting pyspark\n",
      "  Downloading pyspark-2.3.0.tar.gz (211.9MB)\n",
      "\u001b[K    100% |████████████████████████████████| 211.9MB 2.7kB/s ta 0:00:011   22% |███████                         | 47.0MB 37.6MB/s eta 0:00:05    58% |██████████████████▊             | 124.1MB 26.1MB/s eta 0:00:04    74% |███████████████████████▉        | 157.5MB 14.4MB/s eta 0:00:04��█████████████████████████▉  | 197.2MB 22.6MB/s eta 0:00:01    96% |██████████████████████████████▉ | 204.5MB 15.2MB/s eta 0:00:01    96% |███████████████████████████████ | 205.4MB 32.6MB/s eta 0:00:01    99% |███████████████████████████████▊| 210.2MB 12.2MB/s eta 0:00:01\n",
      "\u001b[?25hCollecting py4j==0.10.6 (from pyspark)\n",
      "  Downloading py4j-0.10.6-py2.py3-none-any.whl (189kB)\n",
      "\u001b[K    100% |████████████████████████████████| 194kB 3.0MB/s eta 0:00:01\n",
      "\u001b[?25hBuilding wheels for collected packages: pyspark\n",
      "  Running setup.py bdist_wheel for pyspark ... \u001b[?25ldone\n",
      "\u001b[?25h  Stored in directory: /Users/abhinay/Library/Caches/pip/wheels/4f/39/ba/b4cb0280c568ed31b63dcfa0c6275f2ffe225eeff95ba198d6\n",
      "Successfully built pyspark\n",
      "Installing collected packages: py4j, pyspark\n",
      "Successfully installed py4j-0.10.6 pyspark-2.3.0\n"
     ]
    }
   ],
   "source": [
    "!pip install pyspark"
   ]
  },
  {
   "cell_type": "code",
   "execution_count": 207,
   "metadata": {},
   "outputs": [],
   "source": [
    "import pyspark"
   ]
  },
  {
   "cell_type": "code",
   "execution_count": 208,
   "metadata": {},
   "outputs": [],
   "source": [
    "from pyspark.mllib.recommendation import ALS"
   ]
  },
  {
   "cell_type": "code",
   "execution_count": 136,
   "metadata": {},
   "outputs": [],
   "source": []
  },
  {
   "cell_type": "code",
   "execution_count": 139,
   "metadata": {},
   "outputs": [
    {
     "data": {
      "text/plain": [
       "'ab'"
      ]
     },
     "execution_count": 139,
     "metadata": {},
     "output_type": "execute_result"
    }
   ],
   "source": []
  },
  {
   "cell_type": "code",
   "execution_count": null,
   "metadata": {},
   "outputs": [],
   "source": []
  },
  {
   "cell_type": "code",
   "execution_count": null,
   "metadata": {},
   "outputs": [],
   "source": []
  },
  {
   "cell_type": "code",
   "execution_count": 210,
   "metadata": {},
   "outputs": [],
   "source": [
    "a = 223"
   ]
  },
  {
   "cell_type": "code",
   "execution_count": 211,
   "metadata": {},
   "outputs": [],
   "source": [
    "a =32\n"
   ]
  },
  {
   "cell_type": "code",
   "execution_count": 2,
   "metadata": {},
   "outputs": [
    {
     "data": {
      "text/plain": [
       "0.12733041436877793"
      ]
     },
     "execution_count": 2,
     "metadata": {},
     "output_type": "execute_result"
    }
   ],
   "source": [
    "pow((0.055+0.392)/1.055,2.4)"
   ]
  },
  {
   "cell_type": "code",
   "execution_count": null,
   "metadata": {},
   "outputs": [],
   "source": []
  },
  {
   "cell_type": "code",
   "execution_count": 153,
   "metadata": {},
   "outputs": [
    {
     "data": {
      "text/plain": [
       "1"
      ]
     },
     "execution_count": 153,
     "metadata": {},
     "output_type": "execute_result"
    }
   ],
   "source": [
    "\n",
    "1"
   ]
  },
  {
   "cell_type": "code",
   "execution_count": null,
   "metadata": {},
   "outputs": [],
   "source": []
  }
 ],
 "metadata": {
  "kernelspec": {
   "display_name": "Python 3",
   "language": "python",
   "name": "python3"
  },
  "language_info": {
   "codemirror_mode": {
    "name": "ipython",
    "version": 3
   },
   "file_extension": ".py",
   "mimetype": "text/x-python",
   "name": "python",
   "nbconvert_exporter": "python",
   "pygments_lexer": "ipython3",
   "version": "3.6.0"
  }
 },
 "nbformat": 4,
 "nbformat_minor": 2
}
