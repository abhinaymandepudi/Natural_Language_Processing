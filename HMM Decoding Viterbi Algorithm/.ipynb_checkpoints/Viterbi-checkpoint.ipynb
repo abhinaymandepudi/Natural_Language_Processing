{
 "cells": [
  {
   "cell_type": "code",
   "execution_count": 112,
   "metadata": {},
   "outputs": [],
   "source": [
    "def Viterbi_Algorithm(ObservedSequences):\n",
    "    #HMM Declaration\n",
    "    b = {(1,\"H\") : 0.2,\n",
    "          (2,\"H\") : 0.4,\n",
    "          (3,\"H\") : 0.4,\n",
    "          (1,\"C\") : 0.5,\n",
    "          (2,\"C\") : 0.4,\n",
    "          (3,\"C\") : 0.1}\n",
    "\n",
    "    a = {(\"S\",\"H\"):0.8,(\"S\",\"C\"):0.2,\n",
    "                  (\"H\",\"H\"): 0.7,(\"H\",\"C\"): 0.3,\n",
    "                  (\"C\",\"H\"): 0.4,(\"C\",\"C\"): 0.6}\n",
    "\n",
    "    States = {\"H\",\"C\"}\n",
    "    #Viterbi #Decoding\n",
    "    #initialisation\n",
    "\n",
    "\n",
    "    v = []\n",
    "    backPointer = [{},{}]\n",
    "    for i in range(0,len(ObservedSequences)+1):\n",
    "        v += [[]]\n",
    "        v[i] = {}\n",
    "        for j in States:\n",
    "            v[i][j] = 1\n",
    "\n",
    "    for j in States:\n",
    "        backPointer[1][j] = \"S\"\n",
    "        o1 = (int(ObservedSequences[0]))\n",
    "        v[1][j] = a[(\"S\",j)]* b[(o1,j)]\n",
    "    #print (\"v = \",v,\"bP-\",backPointer)\n",
    "    for i in range(2,len(ObservedSequences)+1):\n",
    "        t = int(ObservedSequences[i-1])\n",
    "        #print (i-1,t)\n",
    "        backPointer += [{}]\n",
    "        for s in States:\n",
    "            v[i][s] = 0\n",
    "            temp = 0\n",
    "            st = \"\"\n",
    "\n",
    "            for s1 in States:\n",
    "                v[i][s] = max(v[i][s],v[i-1][s1]*a[(s1,s)]*b[(t,s)])\n",
    "                if temp <= v[i-1][s1]*a[(s1,s)]:\n",
    "                    temp = v[i-1][s1]*a[(s1,s)]\n",
    "                    st = s1\n",
    "            backPointer[i][s] = st    \n",
    "    backPointer += [{}] #final state\n",
    "    v += [[]]\n",
    "    v[len(ObservedSequences)+1] = {}\n",
    "    v[len(ObservedSequences)+1][\"E\"] = 0\n",
    "    temp = 0\n",
    "    #print (backPointer,\"\\n\\n\")\n",
    "    backPointer[len(ObservedSequences)+1][\"E\"] = \"\"\n",
    "    #print (backPointer,\"\\n\\n\")\n",
    "    for s in States:\n",
    "        v[len(ObservedSequences)+1][\"E\"] = max(v[len(ObservedSequences)+1][\"E\"],v[len(ObservedSequences)][s])\n",
    "        if temp <= v[len(ObservedSequences)][s]:\n",
    "            backPointer[len(ObservedSequences)+1][\"E\"] = s\n",
    "\n",
    "    HiddenSequences = []\n",
    "    for i in range(0,len(ObservedSequences)):\n",
    "        HiddenSequences += [\"\"]\n",
    "    st = backPointer[len(backPointer)-1][\"E\"] \n",
    "    HiddenSequences[-1] = st\n",
    "    for index in range(len(backPointer)-2,1,-1):\n",
    "        HiddenSequences[index-2] = backPointer[index][st]\n",
    "        st = backPointer[index][st]\n",
    "    print(HiddenSequences)        \n",
    "\n"
   ]
  },
  {
   "cell_type": "code",
   "execution_count": null,
   "metadata": {},
   "outputs": [],
   "source": []
  },
  {
   "cell_type": "code",
   "execution_count": 114,
   "metadata": {},
   "outputs": [
    {
     "name": "stdout",
     "output_type": "stream",
     "text": [
      "['H', 'H', 'C']\n"
     ]
    }
   ],
   "source": [
    "Viterbi_Algorithm(\"333\")"
   ]
  },
  {
   "cell_type": "code",
   "execution_count": null,
   "metadata": {},
   "outputs": [],
   "source": []
  },
  {
   "cell_type": "code",
   "execution_count": 111,
   "metadata": {},
   "outputs": [
    {
     "name": "stdout",
     "output_type": "stream",
     "text": [
      "q1 =  11.666666666666666 \n",
      "q2 =  88.0 \n",
      "Error =  397.33333333333337\n"
     ]
    }
   ],
   "source": [
    "t = 18\n",
    "M = [6,6,6,6,6,6,10,10,17,17,17,17,17,17,17,88]\n",
    "\n",
    "q1 = 0\n",
    "q1_c = 0\n",
    "q2 = 0\n",
    "q2_c = 0\n",
    "q1_l = []\n",
    "q2_l = []\n",
    "for i in M:\n",
    "    if i < t:\n",
    "        q1 += i\n",
    "        q1_c += 1\n",
    "        q1_l += [i]\n",
    "    else:\n",
    "        q2 += i\n",
    "        q2_c += 1\n",
    "        q2_l += [i]\n",
    "q1 = q1/(1.0* q1_c)\n",
    "q2 = q2/(1.0 * q2_c)\n",
    "\n",
    "\n",
    "\n",
    "Error = 0\n",
    "for x in q1_l:\n",
    "    Error += ((x - q1)**2)\n",
    "for x in q2_l:\n",
    "    Error += ((x - q2)**2)\n",
    "print (\"q1 = \",q1,\"\\nq2 = \",q2,\"\\nError = \",Error)"
   ]
  },
  {
   "cell_type": "code",
   "execution_count": null,
   "metadata": {},
   "outputs": [],
   "source": []
  },
  {
   "cell_type": "code",
   "execution_count": null,
   "metadata": {},
   "outputs": [],
   "source": []
  },
  {
   "cell_type": "code",
   "execution_count": null,
   "metadata": {},
   "outputs": [],
   "source": []
  },
  {
   "cell_type": "code",
   "execution_count": null,
   "metadata": {},
   "outputs": [],
   "source": []
  }
 ],
 "metadata": {
  "kernelspec": {
   "display_name": "Python 3",
   "language": "python",
   "name": "python3"
  },
  "language_info": {
   "codemirror_mode": {
    "name": "ipython",
    "version": 3
   },
   "file_extension": ".py",
   "mimetype": "text/x-python",
   "name": "python",
   "nbconvert_exporter": "python",
   "pygments_lexer": "ipython3",
   "version": "3.6.0"
  }
 },
 "nbformat": 4,
 "nbformat_minor": 2
}
